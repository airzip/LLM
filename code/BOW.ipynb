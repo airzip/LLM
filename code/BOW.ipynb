{
 "cells": [
  {
   "attachments": {},
   "cell_type": "markdown",
   "metadata": {},
   "source": [
    "# 语料"
   ]
  },
  {
   "cell_type": "code",
   "execution_count": 21,
   "metadata": {},
   "outputs": [],
   "source": [
    "import pandas as pd\n",
    "\n",
    "df_txt = pd.read_csv('../data/kapok.txt') "
   ]
  },
  {
   "cell_type": "code",
   "execution_count": 22,
   "metadata": {},
   "outputs": [],
   "source": [
    "import re\n",
    "import jieba\n",
    "import jieba.analyse\n",
    "\n",
    "def segment(text):\n",
    "    jieba.analyse.set_stop_words('/home/its/CodeReview/LLM/data/baidu_stopwords.txt')\n",
    "    words = jieba.cut(text)\n",
    "    words = [word for word in jieba.cut(text) ]\n",
    "    return words"
   ]
  },
  {
   "cell_type": "code",
   "execution_count": 50,
   "metadata": {},
   "outputs": [
    {
     "data": {
      "text/plain": [
       "[['【', '作者', '】', '舒婷', ' ', '【', '朝代', '】', '现代'],\n",
       " ['我', '如果', '爱', '你', '—', '—'],\n",
       " ['绝不', '像', '攀援', '的', '凌霄花', '，'],\n",
       " ['借', '你', '的', '高枝', '炫耀', '自己', '；'],\n",
       " ['我', '如果', '爱', '你', '—', '—'],\n",
       " ['绝不', '学', '痴情', '的', '鸟儿', '，'],\n",
       " ['为', '绿荫', '重复', '单调', '的', '歌曲', '；'],\n",
       " ['也', '不止', '像', '泉源', '，'],\n",
       " ['常年', '送来', '清凉', '的', '慰藉', '；'],\n",
       " ['也', '不止', '像', '险峰', '，'],\n",
       " ['增加', '你', '的', '高度', '，', '衬托', '你', '的', '威仪', '。'],\n",
       " ['甚至', '日光', '，'],\n",
       " ['甚至', '春雨', '。'],\n",
       " ['不', '，', '这些', '都', '还', '不够', '！'],\n",
       " ['我', '必须', '是', '你', '近旁', '的', '一株', '木棉', '，'],\n",
       " ['作为', '树', '的', '形象', '和', '你', '站', '在', '一起', '。'],\n",
       " ['根', '，', '紧握', '在', '地下', '；'],\n",
       " ['叶', '，', '相触', '在', '云里', '。'],\n",
       " ['每', '一阵风', '过', '，'],\n",
       " ['我们', '都', '互相', '致意', '，'],\n",
       " ['但', '没有', '人', '，'],\n",
       " ['听懂', '我们', '的', '言语', '。'],\n",
       " ['你', '有', '你', '的', '铜枝', '铁干', '，'],\n",
       " ['像', '刀', '，', '像', '剑', '，', '也', '像', '戟', '；'],\n",
       " ['我', '有', '我', '红硕', '的', '花朵', '，'],\n",
       " ['像', '沉重', '的', '叹息', '，'],\n",
       " ['又', '像', '英勇', '的', '火炬', '。'],\n",
       " ['我们', '分担', '寒潮', '、', '风雷', '、', '霹雳', '；'],\n",
       " ['我们', '共享', '雾霭', '、', '流岚', '、', '虹霓', '。'],\n",
       " ['仿佛', '永远', '分离', '，'],\n",
       " ['却', '又', '终身', '相依', '。'],\n",
       " ['这才', '是', '伟大', '的', '爱情', '，'],\n",
       " ['坚贞', '就', '在', '这里', '：'],\n",
       " ['爱', '—', '—'],\n",
       " ['不仅', '爱', '你', '伟岸', '的', '身躯', '，'],\n",
       " ['也', '爱', '你', '坚持', '的', '位置', '，'],\n",
       " ['足下', '的', '土地', '。']]"
      ]
     },
     "execution_count": 50,
     "metadata": {},
     "output_type": "execute_result"
    }
   ],
   "source": [
    "import re\n",
    "\n",
    "list_word = df_txt.iloc[:,0].apply(segment).to_list()\n",
    "#.apply(lambda txt: ''.join(re.findall(r'[\\u4e00-\\u9fa5]+', txt)))"
   ]
  },
  {
   "attachments": {},
   "cell_type": "markdown",
   "metadata": {},
   "source": [
    "# 词袋"
   ]
  },
  {
   "cell_type": "code",
   "execution_count": 89,
   "metadata": {},
   "outputs": [],
   "source": [
    "# 生成一本字典\n",
    "from gensim import corpora\n",
    "\n",
    "dictionary = corpora.Dictionary(list_word)\n",
    "# 把字典存储下来，可以在以后直接导入\n",
    "dictionary.save(fname_or_handle='/home/its/CodeReview/LLM/data/love.dict')"
   ]
  },
  {
   "cell_type": "code",
   "execution_count": 70,
   "metadata": {},
   "outputs": [],
   "source": [
    "#dictionary.filter_extremes(no_below=20, no_above=0.5)  # 删掉只在不超过20个文本中出现过的词，删掉在50%及以上的文本都出现了的词\n",
    "# dictionary.filter_tokens(['一个'])  # 这个函数可以直接删除指定的词\n",
    "dictionary.compactify()  # 去掉因删除词汇而出现的空白\n",
    "#dictionary.filter_n_most_frequent(200)"
   ]
  },
  {
   "attachments": {},
   "cell_type": "markdown",
   "metadata": {},
   "source": [
    "## 语料库向量化"
   ]
  },
  {
   "cell_type": "code",
   "execution_count": 71,
   "metadata": {},
   "outputs": [],
   "source": [
    "corpus = [dictionary.doc2bow(text) for text in list_word]\n",
    " # 存储语料库\n",
    "corpora.MmCorpus.serialize('../data/corpus_bow.mm', corpus) "
   ]
  },
  {
   "cell_type": "code",
   "execution_count": 81,
   "metadata": {},
   "outputs": [
    {
     "data": {
      "text/plain": [
       "[(15, 1), (22, 1), (34, 1), (35, 1), (36, 1), (37, 1)]"
      ]
     },
     "execution_count": 81,
     "metadata": {},
     "output_type": "execute_result"
    }
   ],
   "source": [
    "corpus[8]"
   ]
  },
  {
   "cell_type": "code",
   "execution_count": 82,
   "metadata": {},
   "outputs": [],
   "source": [
    "from gensim.models import LdaModel\n",
    "\n",
    "\n",
    "lda_model = LdaModel(\n",
    "    corpus=corpus,\n",
    "    id2word=dictionary,\n",
    "    chunksize=2000,\n",
    "    alpha='auto',\n",
    "    eta='auto',\n",
    "    iterations=500,\n",
    "    num_topics=3,\n",
    "    passes=20,\n",
    "    eval_every=None\n",
    ")\n",
    "\n",
    "model.save(fname='../mold/love.gs')"
   ]
  },
  {
   "cell_type": "code",
   "execution_count": 77,
   "metadata": {},
   "outputs": [
    {
     "data": {
      "text/plain": [
       "[(0,\n",
       "  '0.104*\"，\" + 0.053*\"像\" + 0.053*\"的\" + 0.031*\"；\" + 0.031*\"也\" + 0.017*\"我们\" + 0.017*\"、\" + 0.017*\"是\" + 0.017*\"绝不\" + 0.017*\"不止\"'),\n",
       " (1,\n",
       "  '0.043*\"的\" + 0.030*\"【\" + 0.030*\"】\" + 0.030*\"你\" + 0.030*\"，\" + 0.017*\"爱\" + 0.017*\"现代\" + 0.017*\"作者\" + 0.017*\"不仅\" + 0.017*\"高枝\"'),\n",
       " (2,\n",
       "  '0.062*\"的\" + 0.054*\"。\" + 0.054*\"你\" + 0.047*\"，\" + 0.047*\"—\" + 0.032*\"我\" + 0.025*\"在\" + 0.025*\"爱\" + 0.017*\"、\" + 0.017*\"我们\"')]"
      ]
     },
     "execution_count": 77,
     "metadata": {},
     "output_type": "execute_result"
    }
   ],
   "source": [
    "lda_model.print_topics(10)"
   ]
  },
  {
   "cell_type": "code",
   "execution_count": 111,
   "metadata": {},
   "outputs": [
    {
     "data": {
      "text/plain": [
       "[([(0.08307864, '的'),\n",
       "   (0.07270475, '，'),\n",
       "   (0.05706723, '你'),\n",
       "   (0.03003431, '我'),\n",
       "   (0.030030088, '。'),\n",
       "   (0.02102469, '有'),\n",
       "   (0.021024216, '；'),\n",
       "   (0.012014075, '增加')],\n",
       "  -8.644459130211269),\n",
       " ([(0.051997684, '的'),\n",
       "   (0.040000077, '；'),\n",
       "   (0.039999485, '你'),\n",
       "   (0.027999258, '、'),\n",
       "   (0.02798469, '，'),\n",
       "   (0.016000262, '作为'),\n",
       "   (0.016000252, '和'),\n",
       "   (0.016000241, '站')],\n",
       "  -11.930959820039257),\n",
       " ([(0.08041004, '，'),\n",
       "   (0.052857444, '像'),\n",
       "   (0.040419374, '—'),\n",
       "   (0.03476327, '的'),\n",
       "   (0.034043096, '。'),\n",
       "   (0.021276888, '爱'),\n",
       "   (0.021275511, '也'),\n",
       "   (0.021274585, '我们')],\n",
       "  -11.976786792459153)]"
      ]
     },
     "execution_count": 111,
     "metadata": {},
     "output_type": "execute_result"
    }
   ],
   "source": [
    "lda_model.top_topics(corpus, topn=8)"
   ]
  },
  {
   "cell_type": "code",
   "execution_count": 109,
   "metadata": {},
   "outputs": [],
   "source": [
    "import pyLDAvis.gensim_models as gensimvis\n",
    "from pyLDAvis import gensim\n",
    "\n",
    "pyLDAvis.enable_notebook\n",
    "\n",
    "vis = gensimvis.prepare(lda_model, corpus, dictionary, sort_topics=False)\n",
    "\n",
    "pyLDAvis.display(vis)\n",
    "pyLDAvis.save_html(data=vis, fileobj='../data/lda_gensim.html')"
   ]
  }
 ],
 "metadata": {
  "kernelspec": {
   "display_name": "bion",
   "language": "python",
   "name": "python3"
  },
  "language_info": {
   "codemirror_mode": {
    "name": "ipython",
    "version": 3
   },
   "file_extension": ".py",
   "mimetype": "text/x-python",
   "name": "python",
   "nbconvert_exporter": "python",
   "pygments_lexer": "ipython3",
   "version": "3.11.3"
  },
  "orig_nbformat": 4
 },
 "nbformat": 4,
 "nbformat_minor": 2
}
