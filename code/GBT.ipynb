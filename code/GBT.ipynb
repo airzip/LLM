{
 "cells": [
  {
   "attachments": {},
   "cell_type": "markdown",
   "metadata": {},
   "source": [
    "# XGBoost 分类"
   ]
  },
  {
   "cell_type": "code",
   "execution_count": null,
   "metadata": {},
   "outputs": [],
   "source": [
    "import xgboost as xgb\n",
    "\n",
    "xgb_param = {\n",
    "    'objective': 'multi:softmax',\n",
    "    'num_class': 4,\n",
    "    'tree_method': 'hist',\n",
    "    'max_depth': 5, \n",
    "    'eta': 0.1,\n",
    "    'n_estimators': 8,\n",
    "    'num_parallel_tree': 100,\n",
    "    'min_child_weight': 3,\n",
    "    'colsample_bytree': 0.8,\n",
    "    'subsample': 0.8,\n",
    "    'alpha': 1,\n",
    "    'lambda': 1,\n",
    "    'gamma': 0.0001,\n",
    "    'seed': 314,\n",
    "    'missing': -999.0\n",
    "}\n",
    "\n",
    "xgb_model = xgb.train( \n",
    "    params=xgb_param, \n",
    "    dtrain=train_xgb_dm,\n",
    "    num_boost_round=8,\n",
    "    evals=[(valid_xgb_dm, 'train')],\n",
    "    early_stopping_rounds=10,\n",
    "    verbose_eval=True\n",
    ")"
   ]
  },
  {
   "attachments": {},
   "cell_type": "markdown",
   "metadata": {},
   "source": [
    "# XGboost + LR"
   ]
  },
  {
   "cell_type": "code",
   "execution_count": 1,
   "metadata": {},
   "outputs": [],
   "source": [
    "import numpy as np\n",
    "import pandas as pd\n",
    "from sklearn.linear_model import LogisticRegression\n",
    "from sklearn.preprocessing import OneHotEncoder\n",
    "from sklearn.model_selection import train_test_split\n",
    "import xgboost as xgb\n",
    "from sklearn.datasets import load_iris"
   ]
  },
  {
   "cell_type": "code",
   "execution_count": 2,
   "metadata": {},
   "outputs": [],
   "source": [
    "iris=load_iris()\n",
    "X, y = iris.data,iris.target\n",
    "X_train, X_test, y_train, y_test = train_test_split(X, y, test_size=0.3,random_state=76)\n",
    "X_train_xgb, X_train_lr, y_train_xgb, y_train_lr = train_test_split(X_train, y_train, test_size=0.75, random_state=76)"
   ]
  },
  {
   "cell_type": "code",
   "execution_count": 3,
   "metadata": {},
   "outputs": [],
   "source": [
    "train_xgb_dm = xgb.DMatrix(data=X_train_xgb, label=y_train_xgb, nthread=8)\n",
    "valid_xgb_dm = xgb.DMatrix(data=X_test, label=y_test)"
   ]
  },
  {
   "cell_type": "code",
   "execution_count": 17,
   "metadata": {},
   "outputs": [
    {
     "name": "stdout",
     "output_type": "stream",
     "text": [
      "[21:15:06] WARNING: /croot/xgboost-split_1675457761144/work/src/learner.cc:767: \n",
      "Parameters: { \"missing\", \"n_estimators\" } are not used.\n",
      "\n",
      "[0]\ttrain-mlogloss:1.30853\n",
      "[1]\ttrain-mlogloss:1.24011\n",
      "[2]\ttrain-mlogloss:1.17809\n",
      "[3]\ttrain-mlogloss:1.12247\n",
      "[4]\ttrain-mlogloss:1.07218\n",
      "[5]\ttrain-mlogloss:1.02825\n",
      "[6]\ttrain-mlogloss:0.98755\n",
      "[7]\ttrain-mlogloss:0.95037\n"
     ]
    }
   ],
   "source": [
    "import xgboost as xgb\n",
    "\n",
    "xgb_param = {\n",
    "    'objective': 'multi:softmax',\n",
    "    'num_class': 2,\n",
    "    'tree_method': 'gpu_hist',\n",
    "    'gpu_id': 0,\n",
    "    'max_depth': 5, \n",
    "    'eta': 0.1,\n",
    "    'n_estimators': 8,\n",
    "    'num_parallel_tree': 100,\n",
    "    'min_child_weight': 3,\n",
    "    'colsample_bytree': 0.8,\n",
    "    'subsample': 0.8,\n",
    "    'alpha': 1,\n",
    "    'lambda': 1,\n",
    "    'gamma': 0.0001,\n",
    "    'seed': 314,\n",
    "    'missing': -999.0\n",
    "}\n",
    "\n",
    "xgb_model = xgb.train( \n",
    "    params=xgb_param, \n",
    "    dtrain=train_xgb_dm,\n",
    "    num_boost_round=8000,\n",
    "    evals=[(valid_xgb_dm, 'train')],\n",
    "    early_stopping_rounds=10,\n",
    "    verbose_eval=True\n",
    ")"
   ]
  },
  {
   "cell_type": "code",
   "execution_count": 10,
   "metadata": {},
   "outputs": [],
   "source": [
    "xgb_model.save_model(fname='../mold/xgb_multi_logistic.ubj')"
   ]
  },
  {
   "cell_type": "code",
   "execution_count": 29,
   "metadata": {},
   "outputs": [
    {
     "data": {
      "text/plain": [
       "array([0., 1., 0., 1., 1., 1., 0., 1., 1., 1., 0., 1., 1., 1., 0., 0., 0.,\n",
       "       1., 1., 0., 1., 0., 0., 0., 0., 0., 1., 1., 0., 1., 1., 1., 1., 1.,\n",
       "       1., 0., 0., 0., 1., 1., 1., 1., 1., 0., 0.], dtype=float32)"
      ]
     },
     "execution_count": 29,
     "metadata": {},
     "output_type": "execute_result"
    }
   ],
   "source": [
    "xgb_model.predict(data=valid_xgb_dm)"
   ]
  },
  {
   "cell_type": "code",
   "execution_count": null,
   "metadata": {},
   "outputs": [],
   "source": [
    "xgb_model._B"
   ]
  },
  {
   "cell_type": "code",
   "execution_count": 18,
   "metadata": {},
   "outputs": [
    {
     "data": {
      "image/svg+xml": [
       "<?xml version=\"1.0\" encoding=\"UTF-8\" standalone=\"no\"?>\n",
       "<!DOCTYPE svg PUBLIC \"-//W3C//DTD SVG 1.1//EN\"\n",
       " \"http://www.w3.org/Graphics/SVG/1.1/DTD/svg11.dtd\">\n",
       "<!-- Generated by graphviz version 2.50.0 (0)\n",
       " -->\n",
       "<!-- Pages: 1 -->\n",
       "<svg width=\"374pt\" height=\"131pt\"\n",
       " viewBox=\"0.00 0.00 374.00 131.00\" xmlns=\"http://www.w3.org/2000/svg\" xmlns:xlink=\"http://www.w3.org/1999/xlink\">\n",
       "<g id=\"graph0\" class=\"graph\" transform=\"scale(1 1) rotate(0) translate(4 127)\">\n",
       "<polygon fill=\"white\" stroke=\"transparent\" points=\"-4,4 -4,-127 370,-127 370,4 -4,4\"/>\n",
       "<!-- 0 -->\n",
       "<g id=\"node1\" class=\"node\">\n",
       "<title>0</title>\n",
       "<path fill=\"#9f5f9f\" stroke=\"black\" d=\"M227,-123C227,-123 132,-123 132,-123 126,-123 120,-117 120,-111 120,-111 120,-99 120,-99 120,-93 126,-87 132,-87 132,-87 227,-87 227,-87 233,-87 239,-93 239,-99 239,-99 239,-111 239,-111 239,-117 233,-123 227,-123\"/>\n",
       "<text text-anchor=\"middle\" x=\"179.5\" y=\"-101.3\" font-family=\"Times,serif\" font-size=\"14.00\">f2&lt;3.5999999</text>\n",
       "</g>\n",
       "<!-- 1 -->\n",
       "<g id=\"node2\" class=\"node\">\n",
       "<title>1</title>\n",
       "<path fill=\"#3299cc\" stroke=\"black\" d=\"M155,-36C155,-36 12,-36 12,-36 6,-36 0,-30 0,-24 0,-24 0,-12 0,-12 0,-6 6,0 12,0 12,0 155,0 155,0 161,0 167,-6 167,-12 167,-12 167,-24 167,-24 167,-30 161,-36 155,-36\"/>\n",
       "<text text-anchor=\"middle\" x=\"83.5\" y=\"-14.3\" font-family=\"Times,serif\" font-size=\"14.00\">leaf=0.00131428579</text>\n",
       "</g>\n",
       "<!-- 0&#45;&gt;1 -->\n",
       "<g id=\"edge1\" class=\"edge\">\n",
       "<title>0&#45;&gt;1</title>\n",
       "<path fill=\"none\" stroke=\"#ff0000\" d=\"M160.07,-86.8C145.89,-74.24 126.47,-57.05 110.74,-43.12\"/>\n",
       "<polygon fill=\"#ff0000\" stroke=\"#ff0000\" points=\"112.71,-40.18 102.9,-36.18 108.06,-45.43 112.71,-40.18\"/>\n",
       "<text text-anchor=\"middle\" x=\"150\" y=\"-57.8\" font-family=\"Times,serif\" font-size=\"14.00\">yes</text>\n",
       "</g>\n",
       "<!-- 2 -->\n",
       "<g id=\"node3\" class=\"node\">\n",
       "<title>2</title>\n",
       "<path fill=\"#3299cc\" stroke=\"black\" d=\"M354,-36C354,-36 197,-36 197,-36 191,-36 185,-30 185,-24 185,-24 185,-12 185,-12 185,-6 191,0 197,0 197,0 354,0 354,0 360,0 366,-6 366,-12 366,-12 366,-24 366,-24 366,-30 360,-36 354,-36\"/>\n",
       "<text text-anchor=\"middle\" x=\"275.5\" y=\"-14.3\" font-family=\"Times,serif\" font-size=\"14.00\">leaf=&#45;0.000415094371</text>\n",
       "</g>\n",
       "<!-- 0&#45;&gt;2 -->\n",
       "<g id=\"edge2\" class=\"edge\">\n",
       "<title>0&#45;&gt;2</title>\n",
       "<path fill=\"none\" stroke=\"#0000ff\" d=\"M198.93,-86.8C213.11,-74.24 232.53,-57.05 248.26,-43.12\"/>\n",
       "<polygon fill=\"#0000ff\" stroke=\"#0000ff\" points=\"250.94,-45.43 256.1,-36.18 246.29,-40.18 250.94,-45.43\"/>\n",
       "<text text-anchor=\"middle\" x=\"273.5\" y=\"-57.8\" font-family=\"Times,serif\" font-size=\"14.00\">no, missing</text>\n",
       "</g>\n",
       "</g>\n",
       "</svg>\n"
      ],
      "text/plain": [
       "<graphviz.sources.Source at 0x7f5fbc15c5d0>"
      ]
     },
     "execution_count": 18,
     "metadata": {},
     "output_type": "execute_result"
    }
   ],
   "source": [
    "xgb.to_graphviz(\n",
    "    xgb_model, \n",
    "    num_trees=0, \n",
    "    rankdir='TB', \n",
    "    condition_node_params={\n",
    "        'shape':'box',\n",
    "        'style':'filled,rounded',\n",
    "        'fillcolor':'#9F5F9F'\n",
    "    }, \n",
    "    leaf_node_params={\n",
    "        'shape':'box',\n",
    "        'style':'filled,rounded',\n",
    "        'fillcolor':'#3299CC'\n",
    "    }\n",
    ")"
   ]
  },
  {
   "cell_type": "code",
   "execution_count": 80,
   "metadata": {},
   "outputs": [],
   "source": [
    "xgb_model.save_model(fname='../mold/xgb_multi_logistic.ubj')"
   ]
  },
  {
   "cell_type": "code",
   "execution_count": 16,
   "metadata": {},
   "outputs": [
    {
     "data": {
      "text/plain": [
       "array([[1.0160005 , 0.3828099 , 0.31774345, 0.23952346],\n",
       "       [0.49204078, 0.73222244, 0.31911373, 0.23952346],\n",
       "       [1.0165553 , 0.3828099 , 0.31774345, 0.23952346],\n",
       "       [0.3290741 , 0.76615816, 0.6796873 , 0.23952346],\n",
       "       [0.3290741 , 0.76615816, 0.6796873 , 0.23952346],\n",
       "       [0.329927  , 0.7658787 , 0.47608837, 0.23952346],\n",
       "       [1.0158755 , 0.385592  , 0.31814978, 0.23952346],\n",
       "       [0.3290741 , 0.76833797, 0.6278692 , 0.23952346],\n",
       "       [0.33792505, 0.7649123 , 0.43252197, 0.23952346],\n",
       "       [0.3290741 , 0.76615816, 0.6796873 , 0.23952346],\n",
       "       [0.91133124, 0.65397173, 0.3178929 , 0.23952346],\n",
       "       [0.32975402, 0.7633761 , 0.67928094, 0.23952346],\n",
       "       [0.33004335, 0.76905525, 0.40589303, 0.23952346],\n",
       "       [0.32975402, 0.76377237, 0.6444724 , 0.23952346],\n",
       "       [0.9011629 , 0.67296916, 0.31986645, 0.23952346],\n",
       "       [1.0158755 , 0.385592  , 0.31814978, 0.23952346],\n",
       "       [1.0165553 , 0.3828099 , 0.31774345, 0.23952346],\n",
       "       [0.32975402, 0.7633761 , 0.67928094, 0.23952346],\n",
       "       [0.46703377, 0.7468813 , 0.36208415, 0.23952346],\n",
       "       [1.0165553 , 0.3828099 , 0.31774345, 0.23952346],\n",
       "       [0.3290741 , 0.76615816, 0.6484508 , 0.23952346],\n",
       "       [0.99338746, 0.425347  , 0.31774345, 0.23952346],\n",
       "       [1.0158755 , 0.385592  , 0.31814978, 0.23952346],\n",
       "       [1.0165553 , 0.3828099 , 0.31774345, 0.23952346],\n",
       "       [1.0114896 , 0.3828099 , 0.31774345, 0.23952346],\n",
       "       [1.0114896 , 0.3828099 , 0.31774345, 0.23952346],\n",
       "       [0.32975402, 0.7633761 , 0.67928094, 0.23952346],\n",
       "       [0.3290741 , 0.768659  , 0.54899836, 0.23952346],\n",
       "       [1.0109348 , 0.3828099 , 0.31774345, 0.23952346],\n",
       "       [0.32975402, 0.7642057 , 0.5477775 , 0.23952346],\n",
       "       [0.32975402, 0.7633761 , 0.67928094, 0.23952346],\n",
       "       [0.3290741 , 0.76615816, 0.65883565, 0.23952346],\n",
       "       [0.3310018 , 0.7688248 , 0.3756965 , 0.23952346],\n",
       "       [0.32975402, 0.7633761 , 0.67067915, 0.23952346],\n",
       "       [0.3290741 , 0.767384  , 0.52376014, 0.23952346],\n",
       "       [1.0165553 , 0.3828099 , 0.31774345, 0.23952346],\n",
       "       [0.9939423 , 0.425347  , 0.31774345, 0.23952346],\n",
       "       [1.0108098 , 0.3872634 , 0.31896427, 0.23952346],\n",
       "       [0.4874931 , 0.7512198 , 0.32108727, 0.23952346],\n",
       "       [0.32975402, 0.7633761 , 0.67928094, 0.23952346],\n",
       "       [0.32975402, 0.763822  , 0.67928094, 0.23952346],\n",
       "       [0.32975402, 0.7633761 , 0.67928094, 0.23952346],\n",
       "       [0.32975402, 0.7633761 , 0.67928094, 0.23952346],\n",
       "       [1.0160005 , 0.3828099 , 0.31774345, 0.23952346],\n",
       "       [0.99900806, 0.425347  , 0.31774345, 0.23952346]], dtype=float32)"
      ]
     },
     "execution_count": 16,
     "metadata": {},
     "output_type": "execute_result"
    }
   ],
   "source": [
    "xgb_model.predict(valid_xgb_dm, output_margin=True)"
   ]
  },
  {
   "cell_type": "code",
   "execution_count": 22,
   "metadata": {},
   "outputs": [],
   "source": [
    "leaf_index = xgb_model.predict(valid_xgb_dm, pred_leaf=True)"
   ]
  },
  {
   "cell_type": "code",
   "execution_count": 30,
   "metadata": {},
   "outputs": [],
   "source": [
    "one_hot = OneHotEncoder()\n",
    "one_hot.fit(leaf_index)\n",
    "one_hot_array = one_hot.transform(leaf_index).toarray()"
   ]
  },
  {
   "cell_type": "code",
   "execution_count": 42,
   "metadata": {},
   "outputs": [],
   "source": [
    "X_train_lr_stack = np.hstack([X_test, one_hot_array])"
   ]
  },
  {
   "cell_type": "markdown",
   "metadata": {},
   "source": []
  },
  {
   "cell_type": "code",
   "execution_count": 47,
   "metadata": {},
   "outputs": [],
   "source": [
    "\n",
    "lr = LogisticRegression(\n",
    "    class_weight= \"balanced\",\n",
    "    penalty='l2',\n",
    "    dual=False, \n",
    "    tol=0.001,\n",
    "    C=0.001, \n",
    "    # fit_intercept=True, \n",
    "    # intercept_scaling=1, \n",
    "    # random_state=None, \n",
    "    # solver='liblinear',   # newton-cg, lbfgs, liblinear, sag, saga}, default: liblinear.\n",
    "    # max_iter=100, \n",
    "    # multi_class='ovr',  # ovr, multinomial, auto\n",
    "    # verbose=0, \n",
    "    # warm_start=False, \n",
    "    # n_jobs=None\n",
    ")\n",
    "\n",
    "lr_model = lr.fit(X_train_lr_stack, y_test)"
   ]
  },
  {
   "cell_type": "code",
   "execution_count": 50,
   "metadata": {},
   "outputs": [
    {
     "data": {
      "text/plain": [
       "array([0, 1, 0, 2, 2, 1, 0, 1, 1, 2, 0, 2, 1, 2, 0, 0, 0, 2, 1, 0, 2, 0,\n",
       "       0, 0, 0, 0, 2, 1, 0, 1, 2, 2, 1, 2, 1, 0, 0, 0, 1, 2, 2, 2, 2, 0,\n",
       "       0])"
      ]
     },
     "execution_count": 50,
     "metadata": {},
     "output_type": "execute_result"
    }
   ],
   "source": [
    "#y_predict = lr_model.predict_proba(ohe.transform(xgb.apply(X_test)))\n",
    "lr_model.predict(X=X_test_stack)"
   ]
  },
  {
   "cell_type": "code",
   "execution_count": 57,
   "metadata": {},
   "outputs": [
    {
     "data": {
      "text/plain": [
       "0.5"
      ]
     },
     "execution_count": 57,
     "metadata": {},
     "output_type": "execute_result"
    }
   ],
   "source": []
  }
 ],
 "metadata": {
  "kernelspec": {
   "display_name": "Python 3",
   "language": "python",
   "name": "python3"
  },
  "language_info": {
   "codemirror_mode": {
    "name": "ipython",
    "version": 3
   },
   "file_extension": ".py",
   "mimetype": "text/x-python",
   "name": "python",
   "nbconvert_exporter": "python",
   "pygments_lexer": "ipython3",
   "version": "3.11.3"
  },
  "orig_nbformat": 4
 },
 "nbformat": 4,
 "nbformat_minor": 2
}
