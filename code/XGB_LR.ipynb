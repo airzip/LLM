{
 "cells": [
  {
   "attachments": {},
   "cell_type": "markdown",
   "metadata": {},
   "source": [
    "# 所需所有模块"
   ]
  },
  {
   "cell_type": "code",
   "execution_count": 3,
   "metadata": {},
   "outputs": [],
   "source": [
    "import numpy as np\n",
    "import pandas as pd\n",
    "from sklearn.linear_model import LogisticRegression\n",
    "from sklearn.preprocessing import OneHotEncoder\n",
    "from sklearn.model_selection import train_test_split\n",
    "from sklearn import metrics\n",
    "import xgboost as xgb\n",
    "from sklearn.datasets import load_iris"
   ]
  },
  {
   "cell_type": "code",
   "execution_count": 4,
   "metadata": {},
   "outputs": [],
   "source": [
    "iris=load_iris()\n",
    "data_raw_df = pd.concat([pd.DataFrame(iris.data), pd.DataFrame(iris.target)], axis=1)\n",
    "data_raw_df.columns = [\"x1\",\"x2\", \"x3\",\"x4\", \"y\"]\n",
    "data_df = data_raw_df[data_raw_df[\"y\"]<2]\n",
    "\n",
    "X = data_df.values[:, :-1]\n",
    "y = data_df.values[:, -1]\n",
    "X_train, X_test, y_train, y_test = train_test_split(X, y, test_size=0.3,random_state=76)\n",
    "X_train_xgb, X_train_lr, y_train_xgb, y_train_lr = train_test_split(X_train, y_train, test_size=0.75, random_state=76)"
   ]
  },
  {
   "cell_type": "code",
   "execution_count": 5,
   "metadata": {},
   "outputs": [
    {
     "data": {
      "text/plain": [
       "array([0., 0., 1., 0., 1., 0., 1., 0., 1., 0., 1., 1., 0., 1., 0., 1., 1.,\n",
       "       0., 1., 0., 1., 0., 1., 1., 1., 0., 1., 1., 1., 1., 1., 1., 1., 0.,\n",
       "       1., 1., 0., 0., 1., 0., 0., 0., 0., 1., 0., 0., 0., 0., 0., 1., 0.,\n",
       "       1., 0.])"
      ]
     },
     "execution_count": 5,
     "metadata": {},
     "output_type": "execute_result"
    }
   ],
   "source": [
    "y_train_lr"
   ]
  },
  {
   "cell_type": "code",
   "execution_count": 6,
   "metadata": {},
   "outputs": [],
   "source": [
    "import xgboost as xgb\n",
    "xgb = xgb.XGBClassifier(\n",
    "        objective=\"binary:logistic\",\n",
    "        eval_metric = 'logloss',\n",
    "        booster = 'gbtree',               # gbtree, gblinear or dart\n",
    "        learning_rate = 0.01,             # 如同学习率\n",
    "        n_estimators = 6,                 # 树的个数\n",
    "        max_depth = 5,                    # 构建树的深度，越大越容易过拟合\n",
    "        min_child_weight = 3,             # 这个参数默认是 1，是每个叶子里面 h 的和至少是多少\n",
    "        gamma = 0.3,                      # 树的叶子节点上作进一步分区所需的最小损失减少,越大越保守，一般0.1、0.2这样子。\n",
    "        # subsample = 0.5,                # 随机采样训练样本 训练实例的子采样比\n",
    "        # colsample_bytree = 0.8,         # 生成树时进行的列采样 \n",
    "        # reg_alpha = 1,                  # L1 正则项参数\n",
    "        # reg_lambda = 4,                 # 控制模型复杂度的权重值的L2正则化项参数，参数越大，模型越不容易过拟合。\n",
    "        # max_delta_step = 0,             # 最大增量步长，我们允许每个树的权重估计。\n",
    "        # seed = 100,                     # 随机种子\n",
    "        missing = -999.0                  # 为缺失值设置默认值\n",
    ")"
   ]
  },
  {
   "cell_type": "code",
   "execution_count": 7,
   "metadata": {},
   "outputs": [
    {
     "data": {
      "text/plain": [
       "{'objective': 'binary:logistic',\n",
       " 'base_score': None,\n",
       " 'booster': 'gbtree',\n",
       " 'colsample_bylevel': None,\n",
       " 'colsample_bynode': None,\n",
       " 'colsample_bytree': None,\n",
       " 'eval_metric': 'logloss',\n",
       " 'gamma': 0.3,\n",
       " 'gpu_id': None,\n",
       " 'grow_policy': None,\n",
       " 'interaction_constraints': None,\n",
       " 'learning_rate': 0.01,\n",
       " 'max_bin': None,\n",
       " 'max_cat_threshold': None,\n",
       " 'max_cat_to_onehot': None,\n",
       " 'max_delta_step': None,\n",
       " 'max_depth': 5,\n",
       " 'max_leaves': None,\n",
       " 'min_child_weight': 3,\n",
       " 'monotone_constraints': None,\n",
       " 'n_jobs': None,\n",
       " 'num_parallel_tree': None,\n",
       " 'predictor': None,\n",
       " 'random_state': None,\n",
       " 'reg_alpha': None,\n",
       " 'reg_lambda': None,\n",
       " 'sampling_method': None,\n",
       " 'scale_pos_weight': None,\n",
       " 'subsample': None,\n",
       " 'tree_method': None,\n",
       " 'validate_parameters': None,\n",
       " 'verbosity': None}"
      ]
     },
     "execution_count": 7,
     "metadata": {},
     "output_type": "execute_result"
    }
   ],
   "source": [
    "xgb.get_xgb_params()"
   ]
  },
  {
   "cell_type": "code",
   "execution_count": 8,
   "metadata": {},
   "outputs": [
    {
     "name": "stdout",
     "output_type": "stream",
     "text": [
      "CPU times: user 40.1 ms, sys: 0 ns, total: 40.1 ms\n",
      "Wall time: 139 ms\n"
     ]
    },
    {
     "data": {
      "text/plain": [
       "array([[0.4986, 0.5014],\n",
       "       [0.4986, 0.5014],\n",
       "       [0.4986, 0.5014],\n",
       "       [0.4986, 0.5014],\n",
       "       [0.4986, 0.5014],\n",
       "       [0.4986, 0.5014],\n",
       "       [0.4986, 0.5014],\n",
       "       [0.4986, 0.5014],\n",
       "       [0.4986, 0.5014],\n",
       "       [0.4986, 0.5014],\n",
       "       [0.4986, 0.5014],\n",
       "       [0.4986, 0.5014],\n",
       "       [0.4986, 0.5014],\n",
       "       [0.4986, 0.5014],\n",
       "       [0.4986, 0.5014],\n",
       "       [0.4986, 0.5014],\n",
       "       [0.4986, 0.5014],\n",
       "       [0.4986, 0.5014],\n",
       "       [0.4986, 0.5014],\n",
       "       [0.4986, 0.5014],\n",
       "       [0.4986, 0.5014],\n",
       "       [0.4986, 0.5014],\n",
       "       [0.4986, 0.5014],\n",
       "       [0.4986, 0.5014],\n",
       "       [0.4986, 0.5014],\n",
       "       [0.4986, 0.5014],\n",
       "       [0.4986, 0.5014],\n",
       "       [0.4986, 0.5014],\n",
       "       [0.4986, 0.5014],\n",
       "       [0.4986, 0.5014]], dtype=float32)"
      ]
     },
     "execution_count": 8,
     "metadata": {},
     "output_type": "execute_result"
    }
   ],
   "source": [
    "%%time\n",
    "xgb_model = xgb.fit(X_train_xgb, y_train_xgb, verbose=True)\n",
    "xgb_model.predict_proba(X_test)"
   ]
  },
  {
   "cell_type": "code",
   "execution_count": 9,
   "metadata": {},
   "outputs": [
    {
     "data": {
      "text/plain": [
       "(17, 6)"
      ]
     },
     "execution_count": 9,
     "metadata": {},
     "output_type": "execute_result"
    }
   ],
   "source": [
    "xgb_model.apply(X_train_xgb, ntree_limit=0).shape"
   ]
  },
  {
   "cell_type": "code",
   "execution_count": 10,
   "metadata": {},
   "outputs": [],
   "source": [
    "ohe = OneHotEncoder()\n",
    "ohe.fit(xgb.apply(X_train_xgb, ntree_limit=0))\n",
    "lr_model = LogisticRegression(\n",
    "    class_weight= \"balanced\",\n",
    "    penalty='l2',\n",
    "    dual=False, \n",
    "    tol=0.001,\n",
    "    C=0.001, \n",
    "    # fit_intercept=True, \n",
    "    # intercept_scaling=1, \n",
    "    # random_state=None, \n",
    "    # solver='liblinear',   # newton-cg, lbfgs, liblinear, sag, saga}, default: liblinear.\n",
    "    # max_iter=100, \n",
    "    # multi_class='ovr',  # ovr, multinomial, auto\n",
    "    # verbose=0, \n",
    "    # warm_start=False, \n",
    "    # n_jobs=None\n",
    ").fit(ohe.transform(xgb.apply(X_train_lr)), y_train_lr.astype('uint8'))"
   ]
  },
  {
   "cell_type": "code",
   "execution_count": 11,
   "metadata": {},
   "outputs": [],
   "source": [
    "#y_predict = lr_model.predict_proba(ohe.transform(xgb.apply(X_test)))\n",
    "y_predict = lr_model.predict(ohe.transform(xgb.apply(X_test)))"
   ]
  },
  {
   "cell_type": "code",
   "execution_count": 1,
   "metadata": {},
   "outputs": [
    {
     "ename": "NameError",
     "evalue": "name 'xgb' is not defined",
     "output_type": "error",
     "traceback": [
      "\u001b[0;31m---------------------------------------------------------------------------\u001b[0m",
      "\u001b[0;31mNameError\u001b[0m                                 Traceback (most recent call last)",
      "Cell \u001b[0;32mIn[1], line 4\u001b[0m\n\u001b[1;32m      1\u001b[0m \u001b[39mimport\u001b[39;00m \u001b[39mmatplotlib\u001b[39;00m\u001b[39m.\u001b[39;00m\u001b[39mpyplot\u001b[39;00m \u001b[39mas\u001b[39;00m \u001b[39mplot\u001b[39;00m\n\u001b[1;32m      2\u001b[0m \u001b[39mfrom\u001b[39;00m \u001b[39mxgboost\u001b[39;00m \u001b[39mimport\u001b[39;00m plot_tree\n\u001b[0;32m----> 4\u001b[0m plot_tree(xgb, num_trees\u001b[39m=\u001b[39m\u001b[39m1\u001b[39m)\n\u001b[1;32m      5\u001b[0m \u001b[39m# 设置图形的大小\u001b[39;00m\n\u001b[1;32m      6\u001b[0m plot\u001b[39m.\u001b[39mrcParams[\u001b[39m'\u001b[39m\u001b[39mfigure.figsize\u001b[39m\u001b[39m'\u001b[39m] \u001b[39m=\u001b[39m [\u001b[39m50\u001b[39m, \u001b[39m20\u001b[39m]\n",
      "\u001b[0;31mNameError\u001b[0m: name 'xgb' is not defined"
     ]
    }
   ],
   "source": [
    "import matplotlib.pyplot as plot\n",
    "from xgboost import plot_tree\n",
    "\n",
    "plot_tree(xgb, num_trees=1)\n",
    "# 设置图形的大小\n",
    "plot.rcParams['figure.figsize'] = [50, 20]\n",
    "plot.show()"
   ]
  },
  {
   "cell_type": "code",
   "execution_count": 13,
   "metadata": {},
   "outputs": [
    {
     "ename": "ValueError",
     "evalue": "Booster.get_score() results in empty.  This maybe caused by having all trees as decision dumps.",
     "output_type": "error",
     "traceback": [
      "\u001b[0;31m---------------------------------------------------------------------------\u001b[0m",
      "\u001b[0;31mValueError\u001b[0m                                Traceback (most recent call last)",
      "Cell \u001b[0;32mIn[13], line 2\u001b[0m\n\u001b[1;32m      1\u001b[0m \u001b[39mfrom\u001b[39;00m \u001b[39mxgboost\u001b[39;00m \u001b[39mimport\u001b[39;00m plot_importance\n\u001b[0;32m----> 2\u001b[0m plot_importance(xgb)\n\u001b[1;32m      3\u001b[0m plt\u001b[39m.\u001b[39mrcParams[\u001b[39m'\u001b[39m\u001b[39mfigure.figsize\u001b[39m\u001b[39m'\u001b[39m] \u001b[39m=\u001b[39m [\u001b[39m10\u001b[39m, \u001b[39m10\u001b[39m]\n\u001b[1;32m      4\u001b[0m plt\u001b[39m.\u001b[39mshow()\n",
      "File \u001b[0;32m/data/home/its/VirtualReality/conda/miniforge/envs/bion/lib/python3.11/site-packages/xgboost/plotting.py:92\u001b[0m, in \u001b[0;36mplot_importance\u001b[0;34m(booster, ax, height, xlim, ylim, title, xlabel, ylabel, fmap, importance_type, max_num_features, grid, show_values, **kwargs)\u001b[0m\n\u001b[1;32m     89\u001b[0m     \u001b[39mraise\u001b[39;00m \u001b[39mValueError\u001b[39;00m(\u001b[39m'\u001b[39m\u001b[39mtree must be Booster, XGBModel or dict instance\u001b[39m\u001b[39m'\u001b[39m)\n\u001b[1;32m     91\u001b[0m \u001b[39mif\u001b[39;00m \u001b[39mnot\u001b[39;00m importance:\n\u001b[0;32m---> 92\u001b[0m     \u001b[39mraise\u001b[39;00m \u001b[39mValueError\u001b[39;00m(\n\u001b[1;32m     93\u001b[0m         \u001b[39m'\u001b[39m\u001b[39mBooster.get_score() results in empty.  \u001b[39m\u001b[39m'\u001b[39m \u001b[39m+\u001b[39m\n\u001b[1;32m     94\u001b[0m         \u001b[39m'\u001b[39m\u001b[39mThis maybe caused by having all trees as decision dumps.\u001b[39m\u001b[39m'\u001b[39m)\n\u001b[1;32m     96\u001b[0m tuples \u001b[39m=\u001b[39m [(k, importance[k]) \u001b[39mfor\u001b[39;00m k \u001b[39min\u001b[39;00m importance]\n\u001b[1;32m     97\u001b[0m \u001b[39mif\u001b[39;00m max_num_features \u001b[39mis\u001b[39;00m \u001b[39mnot\u001b[39;00m \u001b[39mNone\u001b[39;00m:\n\u001b[1;32m     98\u001b[0m     \u001b[39m# pylint: disable=invalid-unary-operand-type\u001b[39;00m\n",
      "\u001b[0;31mValueError\u001b[0m: Booster.get_score() results in empty.  This maybe caused by having all trees as decision dumps."
     ]
    }
   ],
   "source": [
    "from xgboost import plot_importance\n",
    "plot_importance(xgb)\n",
    "plt.rcParams['figure.figsize'] = [10, 10]\n",
    "plt.show()"
   ]
  },
  {
   "cell_type": "code",
   "execution_count": 56,
   "metadata": {},
   "outputs": [
    {
     "name": "stdout",
     "output_type": "stream",
     "text": [
      "              precision    recall  f1-score   support\n",
      "\n",
      "         0.0       0.53      1.00      0.70        16\n",
      "         1.0       0.00      0.00      0.00        14\n",
      "\n",
      "    accuracy                           0.53        30\n",
      "   macro avg       0.27      0.50      0.35        30\n",
      "weighted avg       0.28      0.53      0.37        30\n",
      "\n"
     ]
    },
    {
     "name": "stderr",
     "output_type": "stream",
     "text": [
      "/data/home/its/VirtualReality/conda/miniforge/envs/bion/lib/python3.11/site-packages/sklearn/metrics/_classification.py:1344: UndefinedMetricWarning: Precision and F-score are ill-defined and being set to 0.0 in labels with no predicted samples. Use `zero_division` parameter to control this behavior.\n",
      "  _warn_prf(average, modifier, msg_start, len(result))\n",
      "/data/home/its/VirtualReality/conda/miniforge/envs/bion/lib/python3.11/site-packages/sklearn/metrics/_classification.py:1344: UndefinedMetricWarning: Precision and F-score are ill-defined and being set to 0.0 in labels with no predicted samples. Use `zero_division` parameter to control this behavior.\n",
      "  _warn_prf(average, modifier, msg_start, len(result))\n",
      "/data/home/its/VirtualReality/conda/miniforge/envs/bion/lib/python3.11/site-packages/sklearn/metrics/_classification.py:1344: UndefinedMetricWarning: Precision and F-score are ill-defined and being set to 0.0 in labels with no predicted samples. Use `zero_division` parameter to control this behavior.\n",
      "  _warn_prf(average, modifier, msg_start, len(result))\n"
     ]
    }
   ],
   "source": [
    "from sklearn.metrics import classification_report\n",
    "#metrics.accuracy_score(y_test, y_predict)\n",
    "print(classification_report(y_test,y_predict))"
   ]
  },
  {
   "cell_type": "code",
   "execution_count": 57,
   "metadata": {},
   "outputs": [
    {
     "data": {
      "text/plain": [
       "0.5"
      ]
     },
     "execution_count": 57,
     "metadata": {},
     "output_type": "execute_result"
    }
   ],
   "source": [
    "metrics.roc_auc_score(y_test, y_predict)"
   ]
  },
  {
   "attachments": {},
   "cell_type": "markdown",
   "metadata": {},
   "source": [
    "# 混淆矩阵"
   ]
  },
  {
   "cell_type": "code",
   "execution_count": 58,
   "metadata": {},
   "outputs": [],
   "source": [
    "import matplotlib.pyplot as plot\n",
    "from sklearn.metrics import confusion_matrix, ConfusionMatrixDisplay\n",
    "\n",
    "cm = confusion_matrix(y_test, y_pred=y_predict, labels=[1,0])\n",
    "display = ConfusionMatrixDisplay(cm)\n",
    "\n",
    "plot.show()\n"
   ]
  },
  {
   "attachments": {},
   "cell_type": "markdown",
   "metadata": {},
   "source": [
    "# 模型效果评估"
   ]
  },
  {
   "cell_type": "code",
   "execution_count": 60,
   "metadata": {},
   "outputs": [
    {
     "data": {
      "text/plain": [
       "<sklearn.metrics._plot.confusion_matrix.ConfusionMatrixDisplay at 0x7f6a9a069810>"
      ]
     },
     "execution_count": 60,
     "metadata": {},
     "output_type": "execute_result"
    },
    {
     "data": {
      "image/png": "[encoded data removed]",
      "text/plain": [
       "<Figure size 640x480 with 2 Axes>"
      ]
     },
     "metadata": {},
     "output_type": "display_data"
    }
   ],
   "source": [
    "import matplotlib.pyplot as plot\n",
    "from sklearn.metrics import confusion_matrix, ConfusionMatrixDisplay\n",
    "\n",
    "cm = confusion_matrix(y_test, y_pred=y_predict, labels=[1,0])\n",
    "display = ConfusionMatrixDisplay(confusion_matrix=cm,  display_labels=[1,0])\n",
    "display.plot(\n",
    "    include_values=True\n",
    ")\n",
    "\n",
    "# plot.show()\n",
    "\n",
    "\n"
   ]
  },
  {
   "cell_type": "code",
   "execution_count": 41,
   "metadata": {},
   "outputs": [
    {
     "data": {
      "text/plain": [
       "[<matplotlib.lines.Line2D at 0x7f6a99e039d0>]"
      ]
     },
     "execution_count": 41,
     "metadata": {},
     "output_type": "execute_result"
    },
    {
     "data": {
      "image/png": "[encoded data removed]",
      "text/plain": [
       "<Figure size 640x480 with 1 Axes>"
      ]
     },
     "metadata": {},
     "output_type": "display_data"
    }
   ],
   "source": [
    "import matplotlib.pyplot as plot\n",
    "from sklearn.metrics import precision_recall_curve, average_precision_score\n",
    "\n",
    "precisions, recalls, thresholds = precision_recall_curve(y_test, y_predict)\n",
    "plot.xlabel('Recall')\n",
    "plot.ylabel('Precisions')\n",
    "plot.plot(precision, recalls)\n",
    "# plot.show()\n"
   ]
  },
  {
   "attachments": {},
   "cell_type": "markdown",
   "metadata": {},
   "source": [
    "# 特征相关"
   ]
  },
  {
   "cell_type": "code",
   "execution_count": null,
   "metadata": {},
   "outputs": [],
   "source": []
  }
 ],
 "metadata": {
  "kernelspec": {
   "display_name": "Python 3",
   "language": "python",
   "name": "python3"
  },
  "language_info": {
   "codemirror_mode": {
    "name": "ipython",
    "version": 3
   },
   "file_extension": ".py",
   "mimetype": "text/x-python",
   "name": "python",
   "nbconvert_exporter": "python",
   "pygments_lexer": "ipython3",
   "version": "3.11.3"
  },
  "orig_nbformat": 4
 },
 "nbformat": 4,
 "nbformat_minor": 2
}
