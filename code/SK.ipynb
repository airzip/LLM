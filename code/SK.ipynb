{
 "cells": [
  {
   "attachments": {},
   "cell_type": "markdown",
   "metadata": {},
   "source": [
    "# 数据"
   ]
  },
  {
   "cell_type": "code",
   "execution_count": 6,
   "metadata": {},
   "outputs": [],
   "source": [
    "from sklearn.datasets import make_classification, make_multilabel_classification, make_regression\n",
    "from sklearn.model_selection import train_test_split"
   ]
  },
  {
   "cell_type": "code",
   "execution_count": 16,
   "metadata": {},
   "outputs": [
    {
     "name": "stdout",
     "output_type": "stream",
     "text": [
      "(10000, 50) (10000,)\n"
     ]
    }
   ],
   "source": [
    "dataset, labels = make_classification(n_samples=10000, n_features=50, n_informative=3, n_classes=2)\n",
    "print(dataset.shape, labels.shape)"
   ]
  },
  {
   "cell_type": "code",
   "execution_count": 10,
   "metadata": {},
   "outputs": [
    {
     "name": "stdout",
     "output_type": "stream",
     "text": [
      "(10000, 50) (10000, 3)\n"
     ]
    }
   ],
   "source": [
    "dataset, labels = make_multilabel_classification(n_samples=10000, n_features=50, n_labels=2, n_classes=3)\n",
    "print(dataset.shape, labels.shape)"
   ]
  },
  {
   "cell_type": "code",
   "execution_count": 13,
   "metadata": {},
   "outputs": [
    {
     "name": "stdout",
     "output_type": "stream",
     "text": [
      "(10000, 50) (10000,)\n"
     ]
    }
   ],
   "source": [
    "dataset, labels = make_regression(n_samples=10000, n_features=50, n_targets=1, noise=1.5)\n",
    "print(dataset.shape, labels.shape)"
   ]
  },
  {
   "attachments": {},
   "cell_type": "markdown",
   "metadata": {},
   "source": [
    "# 回归"
   ]
  },
  {
   "attachments": {},
   "cell_type": "markdown",
   "metadata": {},
   "source": [
    "### 支持向量机"
   ]
  },
  {
   "cell_type": "markdown",
   "metadata": {},
   "source": []
  },
  {
   "cell_type": "code",
   "execution_count": 3,
   "metadata": {},
   "outputs": [],
   "source": [
    "from sklearn.svm import SVR"
   ]
  },
  {
   "cell_type": "code",
   "execution_count": 4,
   "metadata": {},
   "outputs": [],
   "source": [
    "# 糖尿病数据集\n",
    "from sklearn import datasets"
   ]
  },
  {
   "cell_type": "code",
   "execution_count": 8,
   "metadata": {},
   "outputs": [],
   "source": [
    "from sklearn import datasets\n",
    "from sklearn.model_selection import train_test_split\n",
    "X, y = datasets.load_diabetes(return_X_y=True)\n",
    "X_train, X_test, y_train, y_test = train_test_split(X, y, train_size=0.8, random_state=817)"
   ]
  },
  {
   "cell_type": "code",
   "execution_count": 9,
   "metadata": {},
   "outputs": [
    {
     "name": "stdout",
     "output_type": "stream",
     "text": [
      "[LibSVM]*\n",
      "optimization finished, #iter = 691\n",
      "obj = -149543641.649917, rho = -622.437490\n",
      "nSV = 353, nBSV = 344\n"
     ]
    }
   ],
   "source": [
    "# 算法和数据训练出模型\n",
    "svr = SVR(kernel='rbf', C=10000, gamma='auto',verbose=True)\n",
    "svr_model = svr.fit(X=X_train, y=y_train)"
   ]
  },
  {
   "cell_type": "code",
   "execution_count": 10,
   "metadata": {},
   "outputs": [],
   "source": [
    "# 模型推理\n",
    "y_infer = svr_model.predict(X=X_test)"
   ]
  },
  {
   "cell_type": "code",
   "execution_count": 11,
   "metadata": {},
   "outputs": [
    {
     "name": "stdout",
     "output_type": "stream",
     "text": [
      "R2 Score: 0.4906724917233053\n",
      "MSE Score: 58.91537254704267\n"
     ]
    }
   ],
   "source": [
    "from sklearn.metrics import mean_squared_error,r2_score\n",
    "\n",
    "print(\"R2 Score:\", r2_score(y_test, y_infer))\n",
    "print(\"MSE Score:\", numpy.sqrt(mean_squared_error(y_test, y_infer)))\n",
    "#print(\"MAE Score:\", mean_absolute_error(y_test, y_infer))"
   ]
  },
  {
   "cell_type": "code",
   "execution_count": 13,
   "metadata": {},
   "outputs": [
    {
     "data": {
      "text/plain": [
       "['../mold/svr.joblib']"
      ]
     },
     "execution_count": 13,
     "metadata": {},
     "output_type": "execute_result"
    }
   ],
   "source": [
    "from joblib import dump\n",
    "\n",
    "dump(svr_model, '../mold/svr.joblib')"
   ]
  },
  {
   "attachments": {},
   "cell_type": "markdown",
   "metadata": {},
   "source": [
    "# 分类"
   ]
  },
  {
   "attachments": {},
   "cell_type": "markdown",
   "metadata": {},
   "source": [
    "## 二分类"
   ]
  },
  {
   "attachments": {},
   "cell_type": "markdown",
   "metadata": {},
   "source": [
    "### 支持向量机"
   ]
  },
  {
   "cell_type": "code",
   "execution_count": 63,
   "metadata": {},
   "outputs": [],
   "source": [
    "from sklearn.svm import SVC"
   ]
  },
  {
   "cell_type": "code",
   "execution_count": 64,
   "metadata": {},
   "outputs": [],
   "source": [
    "#### 女性乳腺癌数据集\n",
    "from sklearn import datasets\n",
    "from sklearn.model_selection import train_test_split\n",
    "\n",
    "# X, y = datasets.load_breast_cancer(return_X_y=True)\n",
    "breast_cance = datasets.load_breast_cancer()\n",
    "X, y = breast_cance.data, breast_cance.target\n",
    "X_train, X_test, y_train, y_test = train_test_split(X, y, train_size=0.8,random_state=817)"
   ]
  },
  {
   "cell_type": "code",
   "execution_count": 65,
   "metadata": {},
   "outputs": [
    {
     "name": "stdout",
     "output_type": "stream",
     "text": [
      "[LibSVM]....*...*\n",
      "optimization finished, #iter = 3346\n",
      "obj = -48694.722225, rho = -9.093956\n",
      "nSV = 61, nBSV = 52\n",
      "Total nSV = 61\n"
     ]
    }
   ],
   "source": [
    "#### 算法训练模型推理\n",
    "\n",
    "svc = SVC(kernel='rbf', C=1000, verbose=True)\n",
    "svc_model = svc.fit(X=X_train, y=y_train)"
   ]
  },
  {
   "cell_type": "code",
   "execution_count": 66,
   "metadata": {},
   "outputs": [],
   "source": [
    "#### 模型推理\n",
    "y_infer = svc_model.predict(X=X_test)"
   ]
  },
  {
   "cell_type": "code",
   "execution_count": 75,
   "metadata": {},
   "outputs": [
    {
     "name": "stdout",
     "output_type": "stream",
     "text": [
      "              precision    recall  f1-score   support\n",
      "\n",
      "   malignant      0.915     0.915     0.915        47\n",
      "      benign      0.940     0.940     0.940        67\n",
      "\n",
      "    accuracy                          0.930       114\n",
      "   macro avg      0.928     0.928     0.928       114\n",
      "weighted avg      0.930     0.930     0.930       114\n",
      "\n"
     ]
    }
   ],
   "source": [
    "from sklearn.metrics import classification_report\n",
    "print(classification_report(\n",
    "    y_true=y_test,\n",
    "    y_pred=y_infer,\n",
    "    #labels=breast_cance['target'],\n",
    "    target_names=breast_cance['target_names'],\n",
    "    digits=3\n",
    "    )\n",
    ")"
   ]
  },
  {
   "cell_type": "code",
   "execution_count": 28,
   "metadata": {},
   "outputs": [
    {
     "data": {
      "text/plain": [
       "['../mold/svc.joblib']"
      ]
     },
     "execution_count": 28,
     "metadata": {},
     "output_type": "execute_result"
    }
   ],
   "source": [
    "# 保存合格模型\n",
    "from joblib import dump\n",
    "\n",
    "dump(svc_model, '../mold/svc.joblib')"
   ]
  },
  {
   "attachments": {},
   "cell_type": "markdown",
   "metadata": {},
   "source": [
    "## 多分类"
   ]
  },
  {
   "attachments": {},
   "cell_type": "markdown",
   "metadata": {},
   "source": [
    "### 信息熵增益树"
   ]
  },
  {
   "cell_type": "code",
   "execution_count": 76,
   "metadata": {},
   "outputs": [],
   "source": [
    "from sklearn import tree\n",
    "from sklearn import datasets\n",
    "from sklearn.tree import DecisionTreeClassifier"
   ]
  },
  {
   "cell_type": "code",
   "execution_count": 77,
   "metadata": {},
   "outputs": [],
   "source": [
    "# 鸢尾花数据集\n",
    "iris = datasets.load_iris()\n",
    "X, y = iris.data, iris.target"
   ]
  },
  {
   "cell_type": "code",
   "execution_count": 78,
   "metadata": {},
   "outputs": [],
   "source": [
    "from sklearn import datasets\n",
    "from sklearn.model_selection import train_test_split\n",
    "X_train, X_test, y_train, y_test = train_test_split(dataset,labels, train_size=0.8,random_state=817)"
   ]
  },
  {
   "cell_type": "code",
   "execution_count": 79,
   "metadata": {},
   "outputs": [],
   "source": [
    "dtc = DecisionTreeClassifier(criterion='entropy', max_depth=8)"
   ]
  },
  {
   "cell_type": "code",
   "execution_count": 80,
   "metadata": {},
   "outputs": [],
   "source": [
    "dtc_model = dtc.fit(X,y)"
   ]
  },
  {
   "cell_type": "code",
   "execution_count": 81,
   "metadata": {},
   "outputs": [],
   "source": [
    "#### 模型推理\n",
    "y_infer = dtc_model.predict(X=X_test)"
   ]
  },
  {
   "cell_type": "code",
   "execution_count": 82,
   "metadata": {},
   "outputs": [
    {
     "name": "stdout",
     "output_type": "stream",
     "text": [
      "              precision    recall  f1-score   support\n",
      "\n",
      "      setosa      1.000     1.000     1.000         6\n",
      "  versicolor      1.000     1.000     1.000        13\n",
      "   virginica      1.000     1.000     1.000        11\n",
      "\n",
      "    accuracy                          1.000        30\n",
      "   macro avg      1.000     1.000     1.000        30\n",
      "weighted avg      1.000     1.000     1.000        30\n",
      "\n"
     ]
    }
   ],
   "source": [
    "from sklearn.metrics import classification_report\n",
    "\n",
    "print(classification_report(\n",
    "    y_true=y_test,\n",
    "    y_pred=y_infer,\n",
    "    #labels=[0,1,2],\n",
    "    target_names=iris['target_names'],\n",
    "    digits=3\n",
    "    )\n",
    ")"
   ]
  },
  {
   "cell_type": "code",
   "execution_count": 70,
   "metadata": {},
   "outputs": [
    {
     "data": {
      "text/plain": [
       "['../mold/dtc.joblib']"
      ]
     },
     "execution_count": 70,
     "metadata": {},
     "output_type": "execute_result"
    }
   ],
   "source": [
    "# 保存合格模型\n",
    "from joblib import dump\n",
    "\n",
    "dump(dtc_model, '../mold/dtc.joblib')"
   ]
  },
  {
   "attachments": {},
   "cell_type": "markdown",
   "metadata": {},
   "source": [
    "# 可视化"
   ]
  },
  {
   "attachments": {},
   "cell_type": "markdown",
   "metadata": {},
   "source": [
    "## 原生"
   ]
  },
  {
   "cell_type": "code",
   "execution_count": 26,
   "metadata": {},
   "outputs": [],
   "source": [
    "# 所有树生长情况导出PDF文件\n",
    "import pydotplus\n",
    "import os\n",
    "\n",
    "Estimators = rfc.estimators_\n",
    "for index, model in enumerate(Estimators):\n",
    "    tree_pdf = os.path.join('../data/tree', 'iris' + str(index) + '.pdf')\n",
    "    dot_data = tree.export_graphviz(\n",
    "        decision_tree=model,\n",
    "        out_file=None,\n",
    "        feature_names=iris.feature_names,\n",
    "        class_names=iris.target_names,\n",
    "        filled=True,\n",
    "        rounded=True,\n",
    "        special_characters=True\n",
    "    )\n",
    "    graph = pydotplus.graph_from_dot_data(dot_data)\n",
    "    graph.write_pdf(tree_pdf)\n",
    "    #graph.create_png(tree_pdf)"
   ]
  },
  {
   "cell_type": "code",
   "execution_count": 10,
   "metadata": {},
   "outputs": [
    {
     "data": {
      "text/plain": [
       "[DecisionTreeClassifier(max_depth=8, max_features='sqrt',\n",
       "                        random_state=1844459823),\n",
       " DecisionTreeClassifier(max_depth=8, max_features='sqrt', random_state=189196900),\n",
       " DecisionTreeClassifier(max_depth=8, max_features='sqrt', random_state=555227900),\n",
       " DecisionTreeClassifier(max_depth=8, max_features='sqrt',\n",
       "                        random_state=1243159731),\n",
       " DecisionTreeClassifier(max_depth=8, max_features='sqrt',\n",
       "                        random_state=2128286244),\n",
       " DecisionTreeClassifier(max_depth=8, max_features='sqrt', random_state=299085722),\n",
       " DecisionTreeClassifier(max_depth=8, max_features='sqrt',\n",
       "                        random_state=1153944498),\n",
       " DecisionTreeClassifier(max_depth=8, max_features='sqrt', random_state=368508953)]"
      ]
     },
     "execution_count": 10,
     "metadata": {},
     "output_type": "execute_result"
    }
   ],
   "source": [
    "andclf.estimators_"
   ]
  },
  {
   "attachments": {},
   "cell_type": "markdown",
   "metadata": {},
   "source": [
    "## 扩展"
   ]
  },
  {
   "cell_type": "code",
   "execution_count": null,
   "metadata": {},
   "outputs": [],
   "source": [
    "import numpy as np\n",
    "import dtreeviz\n",
    "#import graphviz\n",
    "\n",
    "viz = dtreeviz(dtc_model,\n",
    "               iris['data'],\n",
    "               iris['target']\n",
    "               #target_name='',\n",
    "               #feature_names=np.array(iris['feature_names']),\n",
    "               #class_names={0:'setosa',1:'versicolor',2:'virginica'},scale=2\n",
    "            )\n",
    "              \n",
    "viz\n",
    "\n",
    "'''\n",
    "viz_model = dtreeviz.model(dtc_model,\n",
    "                           X_train=X_train, y_train=y_train,\n",
    "                           feature_names=iris.feature_names,\n",
    "                           target_name='iris',\n",
    "                           class_names=iris.target_names\n",
    "                           )\n",
    "\n",
    "v = viz_model.view()     # render as SVG into internal object \n",
    "\n",
    "v.show()\n",
    "v.save('../data/tree/itis.svg')\n",
    "'''\n"
   ]
  }
 ],
 "metadata": {
  "kernelspec": {
   "display_name": "bion",
   "language": "python",
   "name": "python3"
  },
  "language_info": {
   "codemirror_mode": {
    "name": "ipython",
    "version": 3
   },
   "file_extension": ".py",
   "mimetype": "text/x-python",
   "name": "python",
   "nbconvert_exporter": "python",
   "pygments_lexer": "ipython3",
   "version": "3.11.3"
  },
  "orig_nbformat": 4
 },
 "nbformat": 4,
 "nbformat_minor": 2
}
